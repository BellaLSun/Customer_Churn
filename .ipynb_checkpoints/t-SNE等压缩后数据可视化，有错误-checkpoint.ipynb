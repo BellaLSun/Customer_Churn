{
 "cells": [
  {
   "cell_type": "markdown",
   "metadata": {},
   "source": [
    "https://www.kaggle.com/janiobachmann/credit-fraud-dealing-with-imbalanced-datasets"
   ]
  },
  {
   "cell_type": "code",
   "execution_count": 1,
   "metadata": {},
   "outputs": [],
   "source": [
    "import numpy as np # linear algebra\n",
    "import pandas as pd # data processing, CSV file I/O (e.g. pd.read_csv)\n",
    "import tensorflow as tf\n",
    "import matplotlib.pyplot as plt\n",
    "import seaborn as sns\n",
    "from sklearn.manifold import TSNE\n",
    "from sklearn.decomposition import PCA, TruncatedSVD\n",
    "import matplotlib.patches as mpatches\n",
    "import time\n",
    "\n",
    "# Classifier Libraries\n",
    "from sklearn.linear_model import LogisticRegression\n",
    "from sklearn.svm import SVC\n",
    "from sklearn.neighbors import KNeighborsClassifier\n",
    "from sklearn.tree import DecisionTreeClassifier\n",
    "from sklearn.ensemble import RandomForestClassifier\n",
    "import collections\n",
    "\n",
    "\n",
    "# Other Libraries\n",
    "from imblearn.datasets import fetch_datasets\n",
    "from sklearn.model_selection import train_test_split\n",
    "from sklearn.pipeline import make_pipeline\n",
    "from imblearn.pipeline import make_pipeline as imbalanced_make_pipeline\n",
    "from imblearn.over_sampling import SMOTE\n",
    "from imblearn.under_sampling import NearMiss\n",
    "from imblearn.metrics import classification_report_imbalanced\n",
    "from sklearn.metrics import precision_score, recall_score, f1_score, roc_auc_score, accuracy_score, classification_report\n",
    "from collections import Counter\n",
    "from sklearn.model_selection import KFold, StratifiedKFold\n",
    "import warnings\n",
    "warnings.filterwarnings(\"ignore\")"
   ]
  },
  {
   "cell_type": "code",
   "execution_count": 33,
   "metadata": {},
   "outputs": [
    {
     "data": {
      "text/html": [
       "<div>\n",
       "<style scoped>\n",
       "    .dataframe tbody tr th:only-of-type {\n",
       "        vertical-align: middle;\n",
       "    }\n",
       "\n",
       "    .dataframe tbody tr th {\n",
       "        vertical-align: top;\n",
       "    }\n",
       "\n",
       "    .dataframe thead th {\n",
       "        text-align: right;\n",
       "    }\n",
       "</style>\n",
       "<table border=\"1\" class=\"dataframe\">\n",
       "  <thead>\n",
       "    <tr style=\"text-align: right;\">\n",
       "      <th></th>\n",
       "      <th>Unnamed: 0</th>\n",
       "      <th>Time</th>\n",
       "      <th>V1</th>\n",
       "      <th>V2</th>\n",
       "      <th>V3</th>\n",
       "      <th>V4</th>\n",
       "      <th>V5</th>\n",
       "      <th>V6</th>\n",
       "      <th>V7</th>\n",
       "      <th>V8</th>\n",
       "      <th>...</th>\n",
       "      <th>V21</th>\n",
       "      <th>V22</th>\n",
       "      <th>V23</th>\n",
       "      <th>V24</th>\n",
       "      <th>V25</th>\n",
       "      <th>V26</th>\n",
       "      <th>V27</th>\n",
       "      <th>V28</th>\n",
       "      <th>Amount</th>\n",
       "      <th>Class</th>\n",
       "    </tr>\n",
       "  </thead>\n",
       "  <tbody>\n",
       "    <tr>\n",
       "      <th>0</th>\n",
       "      <td>182545</td>\n",
       "      <td>125447.0</td>\n",
       "      <td>1.816429</td>\n",
       "      <td>0.146354</td>\n",
       "      <td>0.046576</td>\n",
       "      <td>3.598831</td>\n",
       "      <td>-0.119489</td>\n",
       "      <td>0.764143</td>\n",
       "      <td>-0.673691</td>\n",
       "      <td>0.375930</td>\n",
       "      <td>...</td>\n",
       "      <td>0.235474</td>\n",
       "      <td>0.539597</td>\n",
       "      <td>0.240714</td>\n",
       "      <td>0.691290</td>\n",
       "      <td>-0.349606</td>\n",
       "      <td>-0.055401</td>\n",
       "      <td>-0.011830</td>\n",
       "      <td>-0.033766</td>\n",
       "      <td>18.92</td>\n",
       "      <td>0</td>\n",
       "    </tr>\n",
       "    <tr>\n",
       "      <th>1</th>\n",
       "      <td>264950</td>\n",
       "      <td>161666.0</td>\n",
       "      <td>-1.132632</td>\n",
       "      <td>-0.217753</td>\n",
       "      <td>-1.018984</td>\n",
       "      <td>-0.725154</td>\n",
       "      <td>1.624606</td>\n",
       "      <td>-1.123202</td>\n",
       "      <td>0.151016</td>\n",
       "      <td>0.322056</td>\n",
       "      <td>...</td>\n",
       "      <td>0.439623</td>\n",
       "      <td>0.855120</td>\n",
       "      <td>-0.058180</td>\n",
       "      <td>0.115257</td>\n",
       "      <td>-0.786822</td>\n",
       "      <td>0.591033</td>\n",
       "      <td>0.308595</td>\n",
       "      <td>0.055496</td>\n",
       "      <td>24.95</td>\n",
       "      <td>0</td>\n",
       "    </tr>\n",
       "    <tr>\n",
       "      <th>2</th>\n",
       "      <td>278614</td>\n",
       "      <td>168323.0</td>\n",
       "      <td>1.754189</td>\n",
       "      <td>0.230348</td>\n",
       "      <td>0.019154</td>\n",
       "      <td>3.927093</td>\n",
       "      <td>-0.087202</td>\n",
       "      <td>0.227146</td>\n",
       "      <td>-0.115704</td>\n",
       "      <td>0.053371</td>\n",
       "      <td>...</td>\n",
       "      <td>-0.374842</td>\n",
       "      <td>-1.136878</td>\n",
       "      <td>0.441901</td>\n",
       "      <td>-0.183241</td>\n",
       "      <td>-0.580846</td>\n",
       "      <td>-0.508929</td>\n",
       "      <td>-0.005608</td>\n",
       "      <td>-0.019285</td>\n",
       "      <td>64.40</td>\n",
       "      <td>0</td>\n",
       "    </tr>\n",
       "    <tr>\n",
       "      <th>3</th>\n",
       "      <td>10160</td>\n",
       "      <td>15578.0</td>\n",
       "      <td>1.028419</td>\n",
       "      <td>0.252588</td>\n",
       "      <td>1.744422</td>\n",
       "      <td>2.801771</td>\n",
       "      <td>-0.613426</td>\n",
       "      <td>0.860407</td>\n",
       "      <td>-0.849896</td>\n",
       "      <td>0.375564</td>\n",
       "      <td>...</td>\n",
       "      <td>-0.148324</td>\n",
       "      <td>-0.044123</td>\n",
       "      <td>0.103698</td>\n",
       "      <td>0.142224</td>\n",
       "      <td>0.132222</td>\n",
       "      <td>-0.080803</td>\n",
       "      <td>0.026917</td>\n",
       "      <td>0.016913</td>\n",
       "      <td>0.00</td>\n",
       "      <td>0</td>\n",
       "    </tr>\n",
       "    <tr>\n",
       "      <th>4</th>\n",
       "      <td>64</td>\n",
       "      <td>42.0</td>\n",
       "      <td>-0.522666</td>\n",
       "      <td>1.009923</td>\n",
       "      <td>0.276470</td>\n",
       "      <td>1.475289</td>\n",
       "      <td>-0.707013</td>\n",
       "      <td>0.355243</td>\n",
       "      <td>1.559849</td>\n",
       "      <td>-0.399579</td>\n",
       "      <td>...</td>\n",
       "      <td>0.172401</td>\n",
       "      <td>1.011543</td>\n",
       "      <td>0.069666</td>\n",
       "      <td>0.157820</td>\n",
       "      <td>-1.109224</td>\n",
       "      <td>-0.302369</td>\n",
       "      <td>0.318170</td>\n",
       "      <td>0.316910</td>\n",
       "      <td>243.66</td>\n",
       "      <td>0</td>\n",
       "    </tr>\n",
       "  </tbody>\n",
       "</table>\n",
       "<p>5 rows × 32 columns</p>\n",
       "</div>"
      ],
      "text/plain": [
       "   Unnamed: 0      Time        V1        V2        V3        V4        V5  \\\n",
       "0      182545  125447.0  1.816429  0.146354  0.046576  3.598831 -0.119489   \n",
       "1      264950  161666.0 -1.132632 -0.217753 -1.018984 -0.725154  1.624606   \n",
       "2      278614  168323.0  1.754189  0.230348  0.019154  3.927093 -0.087202   \n",
       "3       10160   15578.0  1.028419  0.252588  1.744422  2.801771 -0.613426   \n",
       "4          64      42.0 -0.522666  1.009923  0.276470  1.475289 -0.707013   \n",
       "\n",
       "         V6        V7        V8  ...         V21       V22       V23  \\\n",
       "0  0.764143 -0.673691  0.375930  ...    0.235474  0.539597  0.240714   \n",
       "1 -1.123202  0.151016  0.322056  ...    0.439623  0.855120 -0.058180   \n",
       "2  0.227146 -0.115704  0.053371  ...   -0.374842 -1.136878  0.441901   \n",
       "3  0.860407 -0.849896  0.375564  ...   -0.148324 -0.044123  0.103698   \n",
       "4  0.355243  1.559849 -0.399579  ...    0.172401  1.011543  0.069666   \n",
       "\n",
       "        V24       V25       V26       V27       V28  Amount  Class  \n",
       "0  0.691290 -0.349606 -0.055401 -0.011830 -0.033766   18.92      0  \n",
       "1  0.115257 -0.786822  0.591033  0.308595  0.055496   24.95      0  \n",
       "2 -0.183241 -0.580846 -0.508929 -0.005608 -0.019285   64.40      0  \n",
       "3  0.142224  0.132222 -0.080803  0.026917  0.016913    0.00      0  \n",
       "4  0.157820 -1.109224 -0.302369  0.318170  0.316910  243.66      0  \n",
       "\n",
       "[5 rows x 32 columns]"
      ]
     },
     "execution_count": 33,
     "metadata": {},
     "output_type": "execute_result"
    }
   ],
   "source": [
    "df = pd.read_csv('creditcard.csv')\n",
    "df.head()"
   ]
  },
  {
   "cell_type": "code",
   "execution_count": 34,
   "metadata": {},
   "outputs": [
    {
     "data": {
      "text/plain": [
       "0"
      ]
     },
     "execution_count": 34,
     "metadata": {},
     "output_type": "execute_result"
    }
   ],
   "source": [
    "# check null values\n",
    "df.isnull().sum().max()"
   ]
  },
  {
   "cell_type": "code",
   "execution_count": 49,
   "metadata": {},
   "outputs": [
    {
     "data": {
      "text/plain": [
       "85282"
      ]
     },
     "execution_count": 49,
     "metadata": {},
     "output_type": "execute_result"
    }
   ],
   "source": [
    "len(df[df.Class==0])"
   ]
  },
  {
   "cell_type": "code",
   "execution_count": 50,
   "metadata": {},
   "outputs": [
    {
     "data": {
      "text/plain": [
       "160"
      ]
     },
     "execution_count": 50,
     "metadata": {},
     "output_type": "execute_result"
    }
   ],
   "source": [
    "len(df[df.Class==1])"
   ]
  },
  {
   "cell_type": "code",
   "execution_count": 35,
   "metadata": {},
   "outputs": [],
   "source": [
    "# Since most of our data has already been scaled we should scale the columns that are left to scale (Amount and Time)\n",
    "from sklearn.preprocessing import StandardScaler, RobustScaler\n",
    "\n",
    "# RobustScaler is less prone to outliers.\n",
    "\n",
    "std_scaler = StandardScaler()\n",
    "rob_scaler = RobustScaler()\n",
    "\n",
    "df['scaled_amount'] = rob_scaler.fit_transform(df['Amount'].values.reshape(-1,1))\n",
    "df['scaled_time'] = rob_scaler.fit_transform(df['Time'].values.reshape(-1,1))\n",
    "\n",
    "df.drop(['Time','Amount'], axis=1, inplace=True)"
   ]
  },
  {
   "cell_type": "code",
   "execution_count": 36,
   "metadata": {},
   "outputs": [
    {
     "name": "stdout",
     "output_type": "stream",
     "text": [
      "No Frauds 99.81 % of the dataset\n",
      "Frauds 0.19 % of the dataset\n",
      "Train: [79133 81572 61354 ... 60995 26303 73589] Test: [51562 56990 16218 ... 61393 53361  7473]\n",
      "Train: [42114 54427 15331 ... 17421 36736 35121] Test: [73088 28317 17535 ... 67458  1816 22465]\n",
      "Train: [25666 14318 31670 ... 72231 59172 44048] Test: [60085 37617 23474 ... 43700  9063  7545]\n",
      "Train: [49839 82199 61200 ... 13698 14921 70859] Test: [ 1246 68398 47337 ... 31261 37614  8213]\n",
      "Train: [72741 78570  3860 ...  3133  7721 84137] Test: [53234 80009 60774 ...  4299 66204 41739]\n"
     ]
    }
   ],
   "source": [
    "from sklearn.model_selection import train_test_split\n",
    "from sklearn.model_selection import StratifiedShuffleSplit\n",
    "\n",
    "print('No Frauds', round(df['Class'].value_counts()[0]/len(df) * 100,2), '% of the dataset')\n",
    "print('Frauds', round(df['Class'].value_counts()[1]/len(df) * 100,2), '% of the dataset')\n",
    "\n",
    "X = df.drop('Class', axis=1)\n",
    "y = df['Class']\n",
    "\n",
    "sss = StratifiedShuffleSplit(n_splits=5, test_size=0.2, random_state=42)\n",
    "\n",
    "# using original to distinguish and to not overwrite these variables.by train_test_split()\n",
    "for train_index, test_index in sss.split(X, y):\n",
    "    print(\"Train:\", train_index, \"Test:\", test_index)\n",
    "    original_Xtrain, original_Xtest = X.iloc[train_index], X.iloc[test_index]\n",
    "    original_ytrain, original_ytest = y.iloc[train_index], y.iloc[test_index]\n",
    "\n",
    "# Turn into an array\n",
    "original_Xtrain = original_Xtrain.values\n",
    "original_Xtest = original_Xtest.values\n",
    "original_ytrain = original_ytrain.values\n",
    "original_ytest = original_ytest.values"
   ]
  },
  {
   "cell_type": "code",
   "execution_count": 37,
   "metadata": {},
   "outputs": [
    {
     "name": "stdout",
     "output_type": "stream",
     "text": [
      "----------------------------------------------------------------------------------------------------\n",
      "Label Distributions: \n",
      "\n",
      "[0.99812737 0.00187263]\n",
      "[0.99812745 0.00187255]\n"
     ]
    }
   ],
   "source": [
    "# See if both the train and test label distribution are similarly distributed\n",
    "train_unique_label, train_counts_label = np.unique(original_ytrain, return_counts=True)\n",
    "test_unique_label, test_counts_label = np.unique(original_ytest, return_counts=True)\n",
    "print('-' * 100)\n",
    "\n",
    "print('Label Distributions: \\n')\n",
    "print(train_counts_label/ len(original_ytrain))\n",
    "print(test_counts_label/ len(original_ytest))"
   ]
  },
  {
   "cell_type": "markdown",
   "metadata": {},
   "source": [
    "# Dimensionality Reduction and Clustering:"
   ]
  },
  {
   "cell_type": "markdown",
   "metadata": {},
   "source": [
    "### Understanding t-SNE:\n",
    "In order to understand this algorithm you have to understand the following terms: \n",
    "- Euclidean Distance\n",
    "- Conditional Probability\n",
    "- Normal and T-Distribution Plots\n",
    "\n",
    "### Summary:\n",
    "- t-SNE algorithm can pretty accurately cluster the cases that were fraud and non-fraud in our dataset.\n",
    "- Although the subsample is pretty small, the t-SNE algorithm is able to detect clusters pretty accurately **in every scenario **(I shuffle the dataset before running t-SNE)\n",
    "- This gives us an indication that further predictive models will perform pretty well in separating fraud cases from non-fraud cases."
   ]
  },
  {
   "cell_type": "markdown",
   "metadata": {},
   "source": [
    "### 在原始数据上看分布"
   ]
  },
  {
   "cell_type": "code",
   "execution_count": 38,
   "metadata": {},
   "outputs": [
    {
     "name": "stdout",
     "output_type": "stream",
     "text": [
      "85442 85442\n",
      "T-SNE took 1.3e+03 s\n",
      "PCA took 0.43 s\n",
      "Truncated SVD took 0.31 s\n"
     ]
    }
   ],
   "source": [
    "# 数据降维\n",
    "def transfor(X,y):\n",
    "    print(\"length of X is =\" +len(X)+\"length of y is =\"+len(y))\n",
    "    # T-SNE Implementation\n",
    "    t0 = time.time()\n",
    "    X_reduced_tsne = TSNE(n_components=2, random_state=42).fit_transform(X.values)\n",
    "    t1 = time.time()\n",
    "    print(\"T-SNE took {:.2} s\".format(t1 - t0))\n",
    "\n",
    "    # PCA Implementation\n",
    "    t0 = time.time()\n",
    "    X_reduced_pca = PCA(n_components=2, random_state=42).fit_transform(X.values)\n",
    "    t1 = time.time()\n",
    "    print(\"PCA took {:.2} s\".format(t1 - t0))\n",
    "\n",
    "    # TruncatedSVD\n",
    "    t0 = time.time()\n",
    "    X_reduced_svd = TruncatedSVD(n_components=2, algorithm='randomized', random_state=42).fit_transform(X.values)\n",
    "    t1 = time.time()\n",
    "    print(\"Truncated SVD took {:.2} s\".format(t1 - t0))\n",
    "\n",
    "transfor(X,y)\n",
    "# 感觉运行了一辈子,1300s = 20mins "
   ]
  },
  {
   "cell_type": "code",
   "execution_count": 42,
   "metadata": {},
   "outputs": [
    {
     "name": "stdout",
     "output_type": "stream",
     "text": [
      "480 480 480\n"
     ]
    }
   ],
   "source": [
    "print(len(X_reduced_tsne),len(X_reduced_pca),len(X_reduced_svd))"
   ]
  },
  {
   "cell_type": "code",
   "execution_count": 53,
   "metadata": {},
   "outputs": [
    {
     "data": {
      "image/png": "[encoded data removed]",
      "text/plain": [
       "<Figure size 1728x432 with 3 Axes>"
      ]
     },
     "metadata": {},
     "output_type": "display_data"
    }
   ],
   "source": [
    "def plot(X_reduced_tsne,X_reduced_pca,X_reduced_svd):\n",
    "    f, (ax1, ax2, ax3) = plt.subplots(1, 3, figsize=(24,6))\n",
    "    # labels = ['No Fraud', 'Fraud']\n",
    "    f.suptitle('Clusters using Dimensionality Reduction', fontsize=14)\n",
    "\n",
    "\n",
    "    blue_patch = mpatches.Patch(color='#0A0AFF', label='No Fraud')\n",
    "    red_patch = mpatches.Patch(color='#AF0000', label='Fraud')\n",
    "\n",
    "    # c=(y == 0),但是降维后的X_reduced_tsne变成了480个，而c=（y==0）还是两万多个，就报错。\n",
    "    # t-SNE scatter plot\n",
    "    ax1.scatter(X_reduced_tsne[:,0], X_reduced_tsne[:,1] , cmap='coolwarm', label='No Fraud', linewidths=2)\n",
    "    ax1.scatter(X_reduced_tsne[:,0], X_reduced_tsne[:,1], cmap='coolwarm', label='Fraud', linewidths=2)\n",
    "    ax1.set_title('t-SNE', fontsize=14)\n",
    "\n",
    "    ax1.grid(True)\n",
    "\n",
    "    ax1.legend(handles=[blue_patch, red_patch])\n",
    "\n",
    "\n",
    "    # PCA scatter plot\n",
    "    ax2.scatter(X_reduced_pca[:,0], X_reduced_pca[:,1], cmap='coolwarm', label='No Fraud', linewidths=2)\n",
    "    ax2.scatter(X_reduced_pca[:,0], X_reduced_pca[:,1],  cmap='coolwarm', label='Fraud', linewidths=2)\n",
    "    ax2.set_title('PCA', fontsize=14)\n",
    "\n",
    "    ax2.grid(True)\n",
    "\n",
    "    ax2.legend(handles=[blue_patch, red_patch])\n",
    "\n",
    "    # TruncatedSVD scatter plot\n",
    "    ax3.scatter(X_reduced_svd[:,0], X_reduced_svd[:,1],  cmap='coolwarm', label='No Fraud', linewidths=2)\n",
    "    ax3.scatter(X_reduced_svd[:,0], X_reduced_svd[:,1],  cmap='coolwarm', label='Fraud', linewidths=2)\n",
    "    ax3.set_title('Truncated SVD', fontsize=14)\n",
    "\n",
    "    ax3.grid(True)\n",
    "\n",
    "    ax3.legend(handles=[blue_patch, red_patch])\n",
    "\n",
    "    plt.show()\n",
    "\n",
    "plot(X_reduced_tsne,X_reduced_pca,X_reduced_svd)"
   ]
  },
  {
   "cell_type": "markdown",
   "metadata": {},
   "source": [
    "### 以上，原始数据分不太开"
   ]
  },
  {
   "cell_type": "markdown",
   "metadata": {},
   "source": [
    "# under sampling"
   ]
  },
  {
   "cell_type": "code",
   "execution_count": null,
   "metadata": {},
   "outputs": [],
   "source": [
    "number_frauds=len(data[data.Class==1])\n",
    "fraud_indices=np.array(data[data.Class==1].index)\n",
    "\n",
    "normal_indices=data[data.Class==0].index\n",
    "\n",
    "rand_normal_indices=np.random.choice(normal_indices,number_frauds,replace=False)\n",
    "\n",
    "# 保留所有fraud的index，和部分选出的unfraud的index，组合起来\n",
    "under_sample_indices=np.concatenate([fraud_indices,rand_normal_indices])\n",
    "# 选出下采样后的数据集\n",
    "under_sample_data=data.iloc[under_sample_indices,:]\n",
    "\n",
    "X_undersample = under_sample_data.loc[:, under_sample_data.columns != 'Class'].values\n",
    "y_undersample = under_sample_data.loc[:, under_sample_data.columns == 'Class'].values.ravel()"
   ]
  },
  {
   "cell_type": "code",
   "execution_count": null,
   "metadata": {},
   "outputs": [],
   "source": []
  },
  {
   "cell_type": "markdown",
   "metadata": {},
   "source": [
    "# Learning Curves:\n",
    "- The wider the gap between the training score and the cross validation score, the more likely your model is overfitting (high variance).\n",
    "- If the score is low in both training and cross-validation sets this is an indication that our model is underfitting (high bias)"
   ]
  },
  {
   "cell_type": "code",
   "execution_count": null,
   "metadata": {},
   "outputs": [],
   "source": []
  }
 ],
 "metadata": {
  "kernelspec": {
   "display_name": "Python 3",
   "language": "python",
   "name": "python3"
  },
  "language_info": {
   "codemirror_mode": {
    "name": "ipython",
    "version": 3
   },
   "file_extension": ".py",
   "mimetype": "text/x-python",
   "name": "python",
   "nbconvert_exporter": "python",
   "pygments_lexer": "ipython3",
   "version": "3.6.5"
  }
 },
 "nbformat": 4,
 "nbformat_minor": 2
}
