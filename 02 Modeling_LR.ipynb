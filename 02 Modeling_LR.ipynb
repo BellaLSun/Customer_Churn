{
 "cells": [
  {
   "cell_type": "markdown",
   "metadata": {},
   "source": [
    "**LR**\n",
    "http://www.jiehuozhe.com/article/3\n",
    "\n",
    "LR建模时，要求特征具有线性关系，而实际应用中很少有满足这个假设关系的，因此LR模型效果很难达到应用要求。如果对特征离散化，每个离散化的特征取值都有一个权重系数表示特征重要性，这样就能够更准确的建模，也就能够获得更精准的模型。\n",
    "\n",
    "**虚拟陷阱（dummy variable trap）：**\n",
    "\n",
    "引入正则项。既然有很多等价的参数，那我们可以考虑从这些等价的参数中选择我们最想要的，常用的做法就是使用正则项，控制参数的取值范围。\n",
    "\n",
    "使用哑变量替代One-Hot编码。此时上面公式中x3=0，模型只有唯一解"
   ]
  },
  {
   "cell_type": "markdown",
   "metadata": {},
   "source": [
    "**CookBook**  https://github.com/nfmcclure/tensorflow_cookbook/tree/master/03_Linear_Regression/08_Implementing_Logistic_Regression"
   ]
  },
  {
   "cell_type": "markdown",
   "metadata": {},
   "source": [
    "https://www.zybuluo.com/rianusr/note/1159468"
   ]
  },
  {
   "cell_type": "markdown",
   "metadata": {},
   "source": [
    "# Logistic Regression"
   ]
  },
  {
   "cell_type": "markdown",
   "metadata": {},
   "source": [
    "逻辑回归是一种广义的线性回归模型，P的logit变换.\n",
    "This function shows how to use TensorFlow to solve logistic regression. $ \\textbf{y} = sigmoid(\\textbf{A}\\times \\textbf{x} + \\textbf{b})$"
   ]
  },
  {
   "cell_type": "markdown",
   "metadata": {},
   "source": [
    "![Image of Yaktocat](http://static.zybuluo.com/rianusr/xci4rboqftu1gw4t4bx8o0yr/image_1ce8o2idm2mh1r331rfgp4mvfa26.png)"
   ]
  },
  {
   "cell_type": "code",
   "execution_count": 162,
   "metadata": {},
   "outputs": [],
   "source": [
    "import matplotlib.pyplot as plt\n",
    "import numpy as np\n",
    "import tensorflow as tf\n",
    "import requests\n",
    "from tensorflow.python.framework import ops\n",
    "import os.path\n",
    "import csv\n",
    "import pandas as pd"
   ]
  },
  {
   "cell_type": "code",
   "execution_count": 163,
   "metadata": {},
   "outputs": [],
   "source": [
    "ops.reset_default_graph()\n",
    "\n",
    "# Create graph\n",
    "sess = tf.Session()"
   ]
  },
  {
   "cell_type": "markdown",
   "metadata": {},
   "source": [
    "### Obtain and prepare data for modeling"
   ]
  },
  {
   "cell_type": "code",
   "execution_count": 164,
   "metadata": {},
   "outputs": [
    {
     "data": {
      "text/html": [
       "<div>\n",
       "<style scoped>\n",
       "    .dataframe tbody tr th:only-of-type {\n",
       "        vertical-align: middle;\n",
       "    }\n",
       "\n",
       "    .dataframe tbody tr th {\n",
       "        vertical-align: top;\n",
       "    }\n",
       "\n",
       "    .dataframe thead th {\n",
       "        text-align: right;\n",
       "    }\n",
       "</style>\n",
       "<table border=\"1\" class=\"dataframe\">\n",
       "  <thead>\n",
       "    <tr style=\"text-align: right;\">\n",
       "      <th></th>\n",
       "      <th>International plan</th>\n",
       "      <th>Voice mail plan</th>\n",
       "      <th>State_AK</th>\n",
       "      <th>State_AL</th>\n",
       "      <th>State_AR</th>\n",
       "      <th>State_AZ</th>\n",
       "      <th>State_CA</th>\n",
       "      <th>State_CO</th>\n",
       "      <th>State_CT</th>\n",
       "      <th>State_DC</th>\n",
       "      <th>...</th>\n",
       "      <th>Total intl calls</th>\n",
       "      <th>Customer service calls</th>\n",
       "      <th>average day charge</th>\n",
       "      <th>average eve charge</th>\n",
       "      <th>average night charge</th>\n",
       "      <th>average intl charge</th>\n",
       "      <th>Area_code_408</th>\n",
       "      <th>Area_code_415</th>\n",
       "      <th>Area_code_510</th>\n",
       "      <th>Churn</th>\n",
       "    </tr>\n",
       "  </thead>\n",
       "  <tbody>\n",
       "    <tr>\n",
       "      <th>0</th>\n",
       "      <td>0</td>\n",
       "      <td>1</td>\n",
       "      <td>0</td>\n",
       "      <td>0</td>\n",
       "      <td>0</td>\n",
       "      <td>0</td>\n",
       "      <td>0</td>\n",
       "      <td>0</td>\n",
       "      <td>0</td>\n",
       "      <td>0</td>\n",
       "      <td>...</td>\n",
       "      <td>-0.597527</td>\n",
       "      <td>-0.429172</td>\n",
       "      <td>-0.276822</td>\n",
       "      <td>0.014900</td>\n",
       "      <td>0.402666</td>\n",
       "      <td>-0.070614</td>\n",
       "      <td>0</td>\n",
       "      <td>1</td>\n",
       "      <td>0</td>\n",
       "      <td>0</td>\n",
       "    </tr>\n",
       "    <tr>\n",
       "      <th>1</th>\n",
       "      <td>0</td>\n",
       "      <td>1</td>\n",
       "      <td>0</td>\n",
       "      <td>0</td>\n",
       "      <td>0</td>\n",
       "      <td>0</td>\n",
       "      <td>0</td>\n",
       "      <td>0</td>\n",
       "      <td>0</td>\n",
       "      <td>0</td>\n",
       "      <td>...</td>\n",
       "      <td>-0.597527</td>\n",
       "      <td>-0.429172</td>\n",
       "      <td>0.532952</td>\n",
       "      <td>0.005521</td>\n",
       "      <td>-0.452165</td>\n",
       "      <td>-0.076752</td>\n",
       "      <td>0</td>\n",
       "      <td>1</td>\n",
       "      <td>0</td>\n",
       "      <td>0</td>\n",
       "    </tr>\n",
       "    <tr>\n",
       "      <th>2</th>\n",
       "      <td>0</td>\n",
       "      <td>0</td>\n",
       "      <td>0</td>\n",
       "      <td>0</td>\n",
       "      <td>0</td>\n",
       "      <td>0</td>\n",
       "      <td>0</td>\n",
       "      <td>0</td>\n",
       "      <td>0</td>\n",
       "      <td>0</td>\n",
       "      <td>...</td>\n",
       "      <td>0.216894</td>\n",
       "      <td>-1.191955</td>\n",
       "      <td>-0.170897</td>\n",
       "      <td>0.041106</td>\n",
       "      <td>-1.098729</td>\n",
       "      <td>-0.043000</td>\n",
       "      <td>0</td>\n",
       "      <td>1</td>\n",
       "      <td>0</td>\n",
       "      <td>0</td>\n",
       "    </tr>\n",
       "    <tr>\n",
       "      <th>3</th>\n",
       "      <td>1</td>\n",
       "      <td>0</td>\n",
       "      <td>0</td>\n",
       "      <td>0</td>\n",
       "      <td>0</td>\n",
       "      <td>0</td>\n",
       "      <td>0</td>\n",
       "      <td>0</td>\n",
       "      <td>0</td>\n",
       "      <td>0</td>\n",
       "      <td>...</td>\n",
       "      <td>1.031314</td>\n",
       "      <td>0.333610</td>\n",
       "      <td>-0.118374</td>\n",
       "      <td>0.050503</td>\n",
       "      <td>0.183244</td>\n",
       "      <td>-0.045094</td>\n",
       "      <td>1</td>\n",
       "      <td>0</td>\n",
       "      <td>0</td>\n",
       "      <td>0</td>\n",
       "    </tr>\n",
       "    <tr>\n",
       "      <th>4</th>\n",
       "      <td>1</td>\n",
       "      <td>0</td>\n",
       "      <td>0</td>\n",
       "      <td>0</td>\n",
       "      <td>0</td>\n",
       "      <td>0</td>\n",
       "      <td>0</td>\n",
       "      <td>0</td>\n",
       "      <td>0</td>\n",
       "      <td>0</td>\n",
       "      <td>...</td>\n",
       "      <td>-0.597527</td>\n",
       "      <td>1.096392</td>\n",
       "      <td>-0.095093</td>\n",
       "      <td>-0.015797</td>\n",
       "      <td>0.191546</td>\n",
       "      <td>-0.095573</td>\n",
       "      <td>0</td>\n",
       "      <td>1</td>\n",
       "      <td>0</td>\n",
       "      <td>0</td>\n",
       "    </tr>\n",
       "  </tbody>\n",
       "</table>\n",
       "<p>5 rows × 68 columns</p>\n",
       "</div>"
      ],
      "text/plain": [
       "   International plan  Voice mail plan  State_AK  State_AL  State_AR  \\\n",
       "0                   0                1         0         0         0   \n",
       "1                   0                1         0         0         0   \n",
       "2                   0                0         0         0         0   \n",
       "3                   1                0         0         0         0   \n",
       "4                   1                0         0         0         0   \n",
       "\n",
       "   State_AZ  State_CA  State_CO  State_CT  State_DC  ...    Total intl calls  \\\n",
       "0         0         0         0         0         0  ...           -0.597527   \n",
       "1         0         0         0         0         0  ...           -0.597527   \n",
       "2         0         0         0         0         0  ...            0.216894   \n",
       "3         0         0         0         0         0  ...            1.031314   \n",
       "4         0         0         0         0         0  ...           -0.597527   \n",
       "\n",
       "   Customer service calls  average day charge  average eve charge  \\\n",
       "0               -0.429172           -0.276822            0.014900   \n",
       "1               -0.429172            0.532952            0.005521   \n",
       "2               -1.191955           -0.170897            0.041106   \n",
       "3                0.333610           -0.118374            0.050503   \n",
       "4                1.096392           -0.095093           -0.015797   \n",
       "\n",
       "   average night charge  average intl charge  Area_code_408  Area_code_415  \\\n",
       "0              0.402666            -0.070614              0              1   \n",
       "1             -0.452165            -0.076752              0              1   \n",
       "2             -1.098729            -0.043000              0              1   \n",
       "3              0.183244            -0.045094              1              0   \n",
       "4              0.191546            -0.095573              0              1   \n",
       "\n",
       "   Area_code_510  Churn  \n",
       "0              0      0  \n",
       "1              0      0  \n",
       "2              0      0  \n",
       "3              0      0  \n",
       "4              0      0  \n",
       "\n",
       "[5 rows x 68 columns]"
      ]
     },
     "execution_count": 164,
     "metadata": {},
     "output_type": "execute_result"
    }
   ],
   "source": [
    "# index_col=None is for index, index_col=0 is for unnamed\n",
    "data = pd.read_csv('processed_data.csv', index_col=0)\n",
    "data.head()"
   ]
  },
  {
   "cell_type": "code",
   "execution_count": 165,
   "metadata": {},
   "outputs": [],
   "source": [
    "# set for reproducible results\n",
    "seed = 99\n",
    "np.random.seed(seed)\n",
    "tf.set_random_seed(seed)"
   ]
  },
  {
   "cell_type": "code",
   "execution_count": 166,
   "metadata": {},
   "outputs": [
    {
     "data": {
      "text/html": [
       "<div>\n",
       "<style scoped>\n",
       "    .dataframe tbody tr th:only-of-type {\n",
       "        vertical-align: middle;\n",
       "    }\n",
       "\n",
       "    .dataframe tbody tr th {\n",
       "        vertical-align: top;\n",
       "    }\n",
       "\n",
       "    .dataframe thead th {\n",
       "        text-align: right;\n",
       "    }\n",
       "</style>\n",
       "<table border=\"1\" class=\"dataframe\">\n",
       "  <thead>\n",
       "    <tr style=\"text-align: right;\">\n",
       "      <th></th>\n",
       "      <th>International plan</th>\n",
       "      <th>Voice mail plan</th>\n",
       "      <th>State_AK</th>\n",
       "      <th>State_AL</th>\n",
       "      <th>State_AR</th>\n",
       "      <th>State_AZ</th>\n",
       "      <th>State_CA</th>\n",
       "      <th>State_CO</th>\n",
       "      <th>State_CT</th>\n",
       "      <th>State_DC</th>\n",
       "      <th>...</th>\n",
       "      <th>Total night calls</th>\n",
       "      <th>Total intl calls</th>\n",
       "      <th>Customer service calls</th>\n",
       "      <th>average day charge</th>\n",
       "      <th>average eve charge</th>\n",
       "      <th>average night charge</th>\n",
       "      <th>average intl charge</th>\n",
       "      <th>Area_code_408</th>\n",
       "      <th>Area_code_415</th>\n",
       "      <th>Area_code_510</th>\n",
       "    </tr>\n",
       "  </thead>\n",
       "  <tbody>\n",
       "    <tr>\n",
       "      <th>0</th>\n",
       "      <td>0</td>\n",
       "      <td>1</td>\n",
       "      <td>0</td>\n",
       "      <td>0</td>\n",
       "      <td>0</td>\n",
       "      <td>0</td>\n",
       "      <td>0</td>\n",
       "      <td>0</td>\n",
       "      <td>0</td>\n",
       "      <td>0</td>\n",
       "      <td>...</td>\n",
       "      <td>-0.469031</td>\n",
       "      <td>-0.597527</td>\n",
       "      <td>-0.429172</td>\n",
       "      <td>-0.276822</td>\n",
       "      <td>0.014900</td>\n",
       "      <td>0.402666</td>\n",
       "      <td>-0.070614</td>\n",
       "      <td>0</td>\n",
       "      <td>1</td>\n",
       "      <td>0</td>\n",
       "    </tr>\n",
       "    <tr>\n",
       "      <th>1</th>\n",
       "      <td>0</td>\n",
       "      <td>1</td>\n",
       "      <td>0</td>\n",
       "      <td>0</td>\n",
       "      <td>0</td>\n",
       "      <td>0</td>\n",
       "      <td>0</td>\n",
       "      <td>0</td>\n",
       "      <td>0</td>\n",
       "      <td>0</td>\n",
       "      <td>...</td>\n",
       "      <td>0.149054</td>\n",
       "      <td>-0.597527</td>\n",
       "      <td>-0.429172</td>\n",
       "      <td>0.532952</td>\n",
       "      <td>0.005521</td>\n",
       "      <td>-0.452165</td>\n",
       "      <td>-0.076752</td>\n",
       "      <td>0</td>\n",
       "      <td>1</td>\n",
       "      <td>0</td>\n",
       "    </tr>\n",
       "    <tr>\n",
       "      <th>2</th>\n",
       "      <td>0</td>\n",
       "      <td>0</td>\n",
       "      <td>0</td>\n",
       "      <td>0</td>\n",
       "      <td>0</td>\n",
       "      <td>0</td>\n",
       "      <td>0</td>\n",
       "      <td>0</td>\n",
       "      <td>0</td>\n",
       "      <td>0</td>\n",
       "      <td>...</td>\n",
       "      <td>0.200561</td>\n",
       "      <td>0.216894</td>\n",
       "      <td>-1.191955</td>\n",
       "      <td>-0.170897</td>\n",
       "      <td>0.041106</td>\n",
       "      <td>-1.098729</td>\n",
       "      <td>-0.043000</td>\n",
       "      <td>0</td>\n",
       "      <td>1</td>\n",
       "      <td>0</td>\n",
       "    </tr>\n",
       "    <tr>\n",
       "      <th>3</th>\n",
       "      <td>1</td>\n",
       "      <td>0</td>\n",
       "      <td>0</td>\n",
       "      <td>0</td>\n",
       "      <td>0</td>\n",
       "      <td>0</td>\n",
       "      <td>0</td>\n",
       "      <td>0</td>\n",
       "      <td>0</td>\n",
       "      <td>0</td>\n",
       "      <td>...</td>\n",
       "      <td>-0.572045</td>\n",
       "      <td>1.031314</td>\n",
       "      <td>0.333610</td>\n",
       "      <td>-0.118374</td>\n",
       "      <td>0.050503</td>\n",
       "      <td>0.183244</td>\n",
       "      <td>-0.045094</td>\n",
       "      <td>1</td>\n",
       "      <td>0</td>\n",
       "      <td>0</td>\n",
       "    </tr>\n",
       "    <tr>\n",
       "      <th>4</th>\n",
       "      <td>1</td>\n",
       "      <td>0</td>\n",
       "      <td>0</td>\n",
       "      <td>0</td>\n",
       "      <td>0</td>\n",
       "      <td>0</td>\n",
       "      <td>0</td>\n",
       "      <td>0</td>\n",
       "      <td>0</td>\n",
       "      <td>0</td>\n",
       "      <td>...</td>\n",
       "      <td>1.076181</td>\n",
       "      <td>-0.597527</td>\n",
       "      <td>1.096392</td>\n",
       "      <td>-0.095093</td>\n",
       "      <td>-0.015797</td>\n",
       "      <td>0.191546</td>\n",
       "      <td>-0.095573</td>\n",
       "      <td>0</td>\n",
       "      <td>1</td>\n",
       "      <td>0</td>\n",
       "    </tr>\n",
       "  </tbody>\n",
       "</table>\n",
       "<p>5 rows × 67 columns</p>\n",
       "</div>"
      ],
      "text/plain": [
       "   International plan  Voice mail plan  State_AK  State_AL  State_AR  \\\n",
       "0                   0                1         0         0         0   \n",
       "1                   0                1         0         0         0   \n",
       "2                   0                0         0         0         0   \n",
       "3                   1                0         0         0         0   \n",
       "4                   1                0         0         0         0   \n",
       "\n",
       "   State_AZ  State_CA  State_CO  State_CT  State_DC      ...        \\\n",
       "0         0         0         0         0         0      ...         \n",
       "1         0         0         0         0         0      ...         \n",
       "2         0         0         0         0         0      ...         \n",
       "3         0         0         0         0         0      ...         \n",
       "4         0         0         0         0         0      ...         \n",
       "\n",
       "   Total night calls  Total intl calls  Customer service calls  \\\n",
       "0          -0.469031         -0.597527               -0.429172   \n",
       "1           0.149054         -0.597527               -0.429172   \n",
       "2           0.200561          0.216894               -1.191955   \n",
       "3          -0.572045          1.031314                0.333610   \n",
       "4           1.076181         -0.597527                1.096392   \n",
       "\n",
       "   average day charge  average eve charge  average night charge  \\\n",
       "0           -0.276822            0.014900              0.402666   \n",
       "1            0.532952            0.005521             -0.452165   \n",
       "2           -0.170897            0.041106             -1.098729   \n",
       "3           -0.118374            0.050503              0.183244   \n",
       "4           -0.095093           -0.015797              0.191546   \n",
       "\n",
       "   average intl charge  Area_code_408  Area_code_415  Area_code_510  \n",
       "0            -0.070614              0              1              0  \n",
       "1            -0.076752              0              1              0  \n",
       "2            -0.043000              0              1              0  \n",
       "3            -0.045094              1              0              0  \n",
       "4            -0.095573              0              1              0  \n",
       "\n",
       "[5 rows x 67 columns]"
      ]
     },
     "execution_count": 166,
     "metadata": {},
     "output_type": "execute_result"
    }
   ],
   "source": [
    "# Pull out target variable\n",
    "y_vals = data['Churn']\n",
    "y_vals = y_vals.to_frame()\n",
    "# Pull out predictor variables\n",
    "x_vals = data.drop(y_vals,axis=1)\n",
    "x_vals.head()"
   ]
  },
  {
   "cell_type": "code",
   "execution_count": 167,
   "metadata": {},
   "outputs": [
    {
     "name": "stdout",
     "output_type": "stream",
     "text": [
      "2133 533\n"
     ]
    }
   ],
   "source": [
    "# Split data into train/test = 80%/20%\n",
    "train_indices = round(len(x_vals)*0.8)\n",
    "test_indices = len(x_vals) - train_indices\n",
    "print (train_indices,test_indices)"
   ]
  },
  {
   "cell_type": "code",
   "execution_count": 168,
   "metadata": {},
   "outputs": [],
   "source": [
    "x_vals_train = x_vals[:train_indices]\n",
    "x_vals_test = x_vals[train_indices:]\n",
    "y_vals_train = y_vals[:train_indices]\n",
    "y_vals_test = y_vals[train_indices:]"
   ]
  },
  {
   "cell_type": "code",
   "execution_count": 169,
   "metadata": {},
   "outputs": [
    {
     "data": {
      "text/plain": [
       "(2133, 67)"
      ]
     },
     "execution_count": 169,
     "metadata": {},
     "output_type": "execute_result"
    }
   ],
   "source": [
    "x_vals_train.shape"
   ]
  },
  {
   "cell_type": "markdown",
   "metadata": {},
   "source": [
    "### Define Tensorflow computational graph"
   ]
  },
  {
   "cell_type": "code",
   "execution_count": 170,
   "metadata": {},
   "outputs": [],
   "source": [
    "# Initialize placeholders\n",
    "x_data = tf.placeholder(shape=[None, 67], dtype=tf.float32)\n",
    "y_target = tf.placeholder(shape=[None, 1], dtype=tf.float32)\n",
    "\n",
    "# 参数初始化\n",
    "# Create variables for linear regression\n",
    "A = tf.Variable(tf.random_normal(shape=[67,1]))\n",
    "b = tf.Variable(tf.random_normal(shape=[1,1]))\n",
    "\n",
    "# Declare model operations\n",
    "model_output = tf.add(tf.matmul(x_data, A), b)"
   ]
  },
  {
   "cell_type": "markdown",
   "metadata": {},
   "source": [
    "\\begin{eqnarray} \n",
    "  C = -\\frac{1}{n} \\sum_x \\left[y \\ln a + (1-y ) \\ln (1-a) \\right],\n",
    "\\end{eqnarray}"
   ]
  },
  {
   "cell_type": "markdown",
   "metadata": {},
   "source": [
    "a = predicted"
   ]
  },
  {
   "cell_type": "markdown",
   "metadata": {},
   "source": [
    "Cross-entropy could address the learning **slowdown**. where n is the total number of items of training data, the sum is over all training inputs, x, and y is the corresponding desired output.\n",
    "http://neuralnetworksanddeeplearning.com/chap3.html#the_cross-entropy_cost_function"
   ]
  },
  {
   "cell_type": "code",
   "execution_count": 171,
   "metadata": {},
   "outputs": [],
   "source": [
    "# Declare loss function (Cross Entropy loss)\n",
    "loss = tf.reduce_mean(tf.nn.sigmoid_cross_entropy_with_logits(logits=model_output, labels=y_target))\n",
    "\n",
    "# Declare optimizer\n",
    "my_opt = tf.train.GradientDescentOptimizer(0.01)\n",
    "train_step = my_opt.minimize(loss)"
   ]
  },
  {
   "cell_type": "markdown",
   "metadata": {},
   "source": [
    "## Train model"
   ]
  },
  {
   "cell_type": "code",
   "execution_count": 172,
   "metadata": {},
   "outputs": [],
   "source": [
    "# Initialize variables\n",
    "init = tf.global_variables_initializer()\n",
    "sess.run(init)\n",
    "\n",
    "# Actual Prediction\n",
    "prediction = tf.round(tf.sigmoid(model_output))\n",
    "# calculate coorect percentage, then casts a tensor to a new type.\n",
    "predictions_correct = tf.cast(tf.equal(prediction, y_target), tf.float32)\n",
    "# Reduces input_tensor along the dimensions\n",
    "accuracy = tf.reduce_mean(predictions_correct)"
   ]
  },
  {
   "cell_type": "code",
   "execution_count": 173,
   "metadata": {},
   "outputs": [
    {
     "name": "stdout",
     "output_type": "stream",
     "text": [
      "Tensor(\"Mean_1:0\", shape=(), dtype=float32)\n"
     ]
    }
   ],
   "source": [
    "print (accuracy)"
   ]
  },
  {
   "cell_type": "code",
   "execution_count": 177,
   "metadata": {},
   "outputs": [
    {
     "data": {
      "text/html": [
       "<div>\n",
       "<style scoped>\n",
       "    .dataframe tbody tr th:only-of-type {\n",
       "        vertical-align: middle;\n",
       "    }\n",
       "\n",
       "    .dataframe tbody tr th {\n",
       "        vertical-align: top;\n",
       "    }\n",
       "\n",
       "    .dataframe thead th {\n",
       "        text-align: right;\n",
       "    }\n",
       "</style>\n",
       "<table border=\"1\" class=\"dataframe\">\n",
       "  <thead>\n",
       "    <tr style=\"text-align: right;\">\n",
       "      <th></th>\n",
       "      <th>Churn</th>\n",
       "    </tr>\n",
       "  </thead>\n",
       "  <tbody>\n",
       "    <tr>\n",
       "      <th>0</th>\n",
       "      <td>0</td>\n",
       "    </tr>\n",
       "    <tr>\n",
       "      <th>1</th>\n",
       "      <td>0</td>\n",
       "    </tr>\n",
       "    <tr>\n",
       "      <th>2</th>\n",
       "      <td>0</td>\n",
       "    </tr>\n",
       "    <tr>\n",
       "      <th>3</th>\n",
       "      <td>0</td>\n",
       "    </tr>\n",
       "    <tr>\n",
       "      <th>4</th>\n",
       "      <td>0</td>\n",
       "    </tr>\n",
       "  </tbody>\n",
       "</table>\n",
       "</div>"
      ],
      "text/plain": [
       "   Churn\n",
       "0      0\n",
       "1      0\n",
       "2      0\n",
       "3      0\n",
       "4      0"
      ]
     },
     "execution_count": 177,
     "metadata": {},
     "output_type": "execute_result"
    }
   ],
   "source": [
    "y_vals_train.head()"
   ]
  },
  {
   "cell_type": "code",
   "execution_count": 178,
   "metadata": {},
   "outputs": [
    {
     "name": "stdout",
     "output_type": "stream",
     "text": [
      "y_vals_train_shape: (2133, 1)\n"
     ]
    }
   ],
   "source": [
    "print (\"y_vals_train_shape:\",y_vals_train.shape)"
   ]
  },
  {
   "cell_type": "code",
   "execution_count": 179,
   "metadata": {},
   "outputs": [
    {
     "name": "stdout",
     "output_type": "stream",
     "text": [
      "x_vals_train_shape: (2133, 67)\n"
     ]
    }
   ],
   "source": [
    "print (\"x_vals_train_shape:\",x_vals_train.shape)"
   ]
  },
  {
   "cell_type": "markdown",
   "metadata": {},
   "source": [
    "### Display model performance¶"
   ]
  },
  {
   "cell_type": "code",
   "execution_count": 182,
   "metadata": {},
   "outputs": [],
   "source": [
    "# Declare batch size\n",
    "batch_size = 25\n",
    "\n",
    "# Training loop\n",
    "loss_vec = []\n",
    "train_acc = []\n",
    "test_acc = []\n",
    "for i in range(1500):\n",
    "    # Generates a random sample from a given 1-D array\n",
    "    # size: Output shape. If the given shape is, e.g., (m, n, k), then m * n * k samples are drawn. Default is None, in which case a single value is returned.\n",
    "    rand_index = np.random.choice(len(x_vals_train), size=batch_size)\n",
    "    print (rand_index.shape)  # 25\n",
    "    print (rand_index.dtype)  #int64\n",
    "    \n",
    "    print (\"x_vals_train.shape:\",x_vals_train.shape)\n",
    "    print (\"y_vals_train.shape:\",y_vals_train.shape)\n",
    "    \n",
    "    # Bug\n",
    "    rand_x = x_vals_train[rand_index]\n",
    "    # Transpose ?\n",
    "    rand_y = np.transpose([y_vals_train[rand_index]])\n",
    "    sess.run(train_step, feed_dict={x_data: rand_x, y_target: rand_y})\n",
    "    print (rand_x.shape)\n",
    "    print (rand_x.dtype)\n",
    "    # Transpose\n",
    "    rand_y = np.transpose([y_vals_train[rand_index]])\n",
    "    print (rand_y.shape)\n",
    "    print (rand_y.dtype)\n",
    "    \n",
    "    sess.run(train_step, feed_dict={x_data: rand_x, y_target: rand_y})\n",
    "\n",
    "    temp_loss = sess.run(loss, feed_dict={x_data: rand_x, y_target: rand_y})\n",
    "    loss_vec.append(temp_loss)\n",
    "    temp_acc_train = sess.run(accuracy, feed_dict={x_data: x_vals_train, y_target: np.transpose([y_vals_train])})\n",
    "    train_acc.append(temp_acc_train)\n",
    "    temp_acc_test = sess.run(accuracy, feed_dict={x_data: x_vals_test, y_target: np.transpose([y_vals_test])})\n",
    "    test_acc.append(temp_acc_test)\n",
    "    if (i+1)%300==0:\n",
    "        print('Loss = ' + str(temp_loss_train))"
   ]
  },
  {
   "cell_type": "code",
   "execution_count": 161,
   "metadata": {},
   "outputs": [
    {
     "data": {
      "image/png": "[encoded data removed]",
      "text/plain": [
       "<Figure size 432x288 with 1 Axes>"
      ]
     },
     "metadata": {},
     "output_type": "display_data"
    }
   ],
   "source": [
    "%matplotlib inline\n",
    "\n",
    "# Plot train and test accuracy\n",
    "plt.plot(train_acc, 'k-', label='Train Set Accuracy')\n",
    "plt.plot(test_acc, 'r--', label='Test Set Accuracy')\n",
    "plt.title('Train and Test Accuracy')\n",
    "plt.xlabel('Generation')\n",
    "plt.ylabel('Accuracy')\n",
    "plt.legend(loc='lower right')\n",
    "plt.show()"
   ]
  },
  {
   "cell_type": "code",
   "execution_count": null,
   "metadata": {},
   "outputs": [],
   "source": []
  }
 ],
 "metadata": {
  "kernelspec": {
   "display_name": "Python 3",
   "language": "python",
   "name": "python3"
  },
  "language_info": {
   "codemirror_mode": {
    "name": "ipython",
    "version": 3
   },
   "file_extension": ".py",
   "mimetype": "text/x-python",
   "name": "python",
   "nbconvert_exporter": "python",
   "pygments_lexer": "ipython3",
   "version": "3.6.5"
  }
 },
 "nbformat": 4,
 "nbformat_minor": 2
}
